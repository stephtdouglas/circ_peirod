{
 "cells": [
  {
   "cell_type": "code",
   "execution_count": null,
   "metadata": {},
   "outputs": [],
   "source": [
    "from __future__ import print_function, division, absolute_import\n",
    "import os\n",
    "\n",
    "import numpy as np\n",
    "import matplotlib.pyplot as plt\n",
    "from matplotlib.patches import Rectangle\n",
    "%matplotlib inline\n",
    "import astropy.io.ascii as at\n",
    "from astropy import table\n",
    "\n",
    "\n",
    "import matplotlib as mpl\n",
    "mpl.rcParams['figure.figsize'] = (8,5)\n",
    "mpl.rcParams['lines.markeredgewidth'] = 1.5\n",
    "mpl.rcParams['lines.markersize'] = 8\n",
    "mpl.rcParams['font.size'] = 16\n",
    "mpl.rcParams['axes.titlesize'] = 24\n",
    "mpl.rcParams['axes.labelsize'] = 22\n",
    "mpl.rcParams['xtick.major.size'] = 6\n",
    "mpl.rcParams['xtick.minor.size'] = 3\n",
    "mpl.rcParams['xtick.major.width'] = 1.5\n",
    "mpl.rcParams['xtick.minor.width'] = 1\n",
    "mpl.rcParams['xtick.labelsize'] = 18\n",
    "mpl.rcParams['ytick.major.size'] = 6\n",
    "mpl.rcParams['ytick.minor.size'] = 3\n",
    "mpl.rcParams['ytick.major.width'] = 1.5\n",
    "mpl.rcParams['ytick.minor.width'] = 1\n",
    "mpl.rcParams['ytick.labelsize'] = 18\n",
    "mpl.rcParams['legend.frameon'] = False\n",
    "mpl.rcParams['legend.numpoints'] = 1\n",
    "mpl.rcParams['legend.fontsize'] = 16\n",
    "# mpl.rcParams[''] = \n",
    "\n",
    "home_dir = os.getenv(\"HOME\")"
   ]
  },
  {
   "cell_type": "code",
   "execution_count": null,
   "metadata": {},
   "outputs": [],
   "source": [
    "# Define values from Meibom+2005\n",
    "\n",
    "cp_rows = [(\"PMS binaries\",-2.5,7.1,1.2,1.2),\n",
    "           (\"Pleiades\",-1,7.2,1.8,1.9),\n",
    "           (\"M35\",-0.8,9.9,1.2,1.2),\n",
    "           (\"HyPra\",np.log10(0.600),3.2,1.2,1.2),\n",
    "           (\"M67\",0.6,12.1,1.0,1.5),\n",
    "           (\"NGC188\",0.8,14.5,1.4,2.2),\n",
    "           (\"NGC 6819\",np.log10(2.5),6.2,1.1,1.1), # Milliman2014\n",
    "           (\"Field\",0.95,10.3,1.5,3.1),\n",
    "           (\"Halo\",1.00,15.6,2.3,3.2)\n",
    "          ]\n",
    "\n",
    "cp_table = table.Table(rows=cp_rows, \n",
    "                       names=('Name', 'log(age)', 'CP','up_unc','dn_unc'), \n",
    "                       meta={'name': 'circularization periods'})"
   ]
  },
  {
   "cell_type": "code",
   "execution_count": null,
   "metadata": {},
   "outputs": [],
   "source": [
    "# new_clusters = [\"NGC2099 (M37)\", \"NGC2516\", \"NGC3532\", \"NGC6866\", \"NGC6811\", \"Rup147\"]\n",
    "# new_ages = [np.log10(0.550),8.052-9,8.492-9,8.576-9,0,np.log10(3)]\n",
    "# new_clusters = [\"NGC6866\", \"NGC2099 (M37)\", \"NGC6811\", \"Rup147\"]\n",
    "# new_ages = [np.log10(0.5),np.log10(0.550),0,np.log10(2.6)]\n",
    "# new_clusters = [\"NGC2099 (M37)\", \"Praesepe\"]\n",
    "# new_ages = [np.log10(0.550),np.log10(0.600)]\n",
    "new_clusters = [\"Praesepe\", \"NGC6811\"]\n",
    "new_ages = [np.log10(0.600),0]\n",
    "\n",
    "\n",
    "new_table = table.Table([new_clusters,new_ages], names=('Name', 'log(age)'), meta={'name': 'new clusters'})\n",
    "\n",
    "print(10**new_table[\"log(age)\"]*1000)"
   ]
  },
  {
   "cell_type": "code",
   "execution_count": null,
   "metadata": {},
   "outputs": [],
   "source": [
    "cp_errs = np.vstack([cp_table[\"dn_unc\"],cp_table[\"up_unc\"]])\n",
    "print(cp_errs)"
   ]
  },
  {
   "cell_type": "code",
   "execution_count": null,
   "metadata": {},
   "outputs": [],
   "source": [
    "# Witte & Savongjie 2002\n",
    "ws_age = np.array([0.01,0.1,0.8,4,11])\n",
    "ws_dn = np.array([2,3,4,6,10])\n",
    "ws_up = np.array([2,5,5,6,10])"
   ]
  },
  {
   "cell_type": "code",
   "execution_count": null,
   "metadata": {},
   "outputs": [],
   "source": [
    "# Geller 2013\n",
    "geller = at.read(os.path.join(home_dir,\"HyPra/models/geller2013_fig2_combined_arohatgi_2016-10-01.csv\"))"
   ]
  },
  {
   "cell_type": "code",
   "execution_count": null,
   "metadata": {},
   "outputs": [],
   "source": [
    "def plot_cp(new_table,prop_label=\"Proposed Targets\"):\n",
    "    plt.figure()\n",
    "    ax = plt.subplot()\n",
    "\n",
    "    ax.set_xscale(\"log\")\n",
    "    ax.set_xlim(1e-3,1.1e1)\n",
    "    ax.set_ylim(0,20)\n",
    "    ax.set_xticklabels([\"\",-3,-2,-1,0,1])\n",
    "    # ax.tick_params(labelsize=\"x-large\")\n",
    "    ax.set_xlabel(\"log(age (Gyr))\")\n",
    "    ax.set_ylabel(\"Circularization Period\")\n",
    "\n",
    "    # Zahn & Bouchet 1989 as cited in Meibom 2005\n",
    "\n",
    "    pms_r = Rectangle((1e-3,7.2), 3e1, 1.3, color=\"lightgrey\",\n",
    "                    zorder=-111,ec=\"none\",label=\"Zahn & Bouchet (1989; PMS only)\")\n",
    "    pms = ax.add_patch(pms_r)\n",
    "\n",
    "    # Witte & Savongjie 2002\n",
    "\n",
    "    witte = ax.fill_between(ws_age,ws_dn,ws_up,color='grey',hatch=\"/\",lw=2,\n",
    "                            label=\"Witte & Savonjie (2002; Dyn. Tide)\",zorder=-100)\n",
    "\n",
    "    # Zahn 2008 (ref'ing Zahn 19XX)\n",
    "\n",
    "    zahn_age = np.logspace(-2,1,20)\n",
    "    zahn_cp = 6 * (zahn_age/5.0)**(3/16)\n",
    "    zahn = ax.plot(zahn_age,zahn_cp,'k-.',lw=3,label=\"Zahn (2008; Eq. Tide)\",zorder=2)\n",
    "\n",
    "    # # Goodman & Dickson 1998\n",
    "    # # Effectively the same as the Zahn prediction for the equilibrium tide (!?)\n",
    "    # goodman_cp = 6.4 * (zahn_age/10)**(1/7)\n",
    "    # goodman = ax.plot(zahn_age,goodman_cp,'b-.',lw=4,label=\"Goodman & Dickson (1997; Dyn. Tide)\",zorder=2)\n",
    "\n",
    "\n",
    "    # Geller 2013 (combines Hurley+2002 and Kroupa 1995)\n",
    "    gel = ax.plot(geller[\"t(Gyr)\"],geller[\"CP\"],\"k:\",lw=3,label=\"Geller+2013 (Hybrid Model)\",zorder=1)\n",
    "\n",
    "    # Data!\n",
    "\n",
    "    meibom = ax.errorbar(10**cp_table[\"log(age)\"],cp_table[\"CP\"],cp_errs,lw=0,\n",
    "                         elinewidth=2.5,ms=12,marker=\"o\",capsize=0,mec=\"none\",color=\"k\",\n",
    "                         label=\"Meibom & Matheiu (2005) (updated)\",zorder=100)\n",
    "\n",
    "    for row in new_table:\n",
    "        ax.axvline(10**row[\"log(age)\"],color=\"m\",lw=3,ls=\"--\")\n",
    "    # for i in np.array([1,3,6]):\n",
    "    #     ax.axvline(10**cp_table[\"log(age)\"][i],color=\"m\",lw=1.5,ls=\"--\")\n",
    "\n",
    "    # Adding separate Praesepe line bc will be splitting HyPra up\n",
    "    newfgk = ax.axvline(100,color=\"m\",lw=3,ls=\"--\",label=prop_label,zorder=101) \n",
    "\n",
    "    # hypraplei = np.array([1,3,6])\n",
    "    # newm = ax.plot(10**cp_table[\"log(age)\"][hypraplei],cp_table[\"CP\"][hypraplei],\"m*\",\n",
    "    #                 ms=18,label=\"Additional RVs\",zorder=102)\n",
    "\n",
    "    handles, labels = ax.get_legend_handles_labels()\n",
    "    print(handles,labels)\n",
    "    reorder = np.array([5,2,3,0,4,1])\n",
    "\n",
    "    new_handles = [handles[i] for i in reorder]\n",
    "\n",
    "    ax.legend(handles=new_handles,\n",
    "        loc=2,numpoints=1,borderaxespad=0.1,fontsize=13.5)"
   ]
  },
  {
   "cell_type": "code",
   "execution_count": null,
   "metadata": {},
   "outputs": [],
   "source": [
    "def proposal_plot(new_clusters,new_ages,new_label,outfilename):\n",
    "    new_table = table.Table([new_clusters,new_ages], \n",
    "                             names=('Name', 'log(age)'), \n",
    "                             meta={'name': 'new clusters'})\n",
    "    plot_cp(new_table,prop_label=new_label)\n",
    "    plt.savefig(outfilename,bbox_inches=\"tight\")\n",
    "   "
   ]
  },
  {
   "cell_type": "code",
   "execution_count": null,
   "metadata": {},
   "outputs": [],
   "source": [
    "proposal_plot([\"Praesepe\", \"NGC6811\"],[np.log10(0.600),0],\"Proposed Clusters\",\"cp_prae_6811.pdf\")"
   ]
  },
  {
   "cell_type": "code",
   "execution_count": null,
   "metadata": {},
   "outputs": [],
   "source": [
    "proposal_plot([\"Praesepe\"],[np.log10(0.600)],\"Praesepe (Proposed Targets)\",\"cp_prae.pdf\")"
   ]
  },
  {
   "cell_type": "code",
   "execution_count": null,
   "metadata": {},
   "outputs": [],
   "source": [
    "proposal_plot([\"Praesepe\", \"Ruprecht 147\"],[np.log10(0.600),np.log10(2.5)],\"Proposed Clusters\",\"cp_prae_R147.pdf\")"
   ]
  },
  {
   "cell_type": "code",
   "execution_count": null,
   "metadata": {},
   "outputs": [],
   "source": []
  },
  {
   "cell_type": "code",
   "execution_count": null,
   "metadata": {},
   "outputs": [],
   "source": []
  }
 ],
 "metadata": {
  "kernelspec": {
   "display_name": "Python 2",
   "language": "python",
   "name": "python2"
  },
  "language_info": {
   "codemirror_mode": {
    "name": "ipython",
    "version": 2
   },
   "file_extension": ".py",
   "mimetype": "text/x-python",
   "name": "python",
   "nbconvert_exporter": "python",
   "pygments_lexer": "ipython2",
   "version": "2.7.14"
  }
 },
 "nbformat": 4,
 "nbformat_minor": 1
}
