{
 "cells": [
  {
   "cell_type": "code",
   "execution_count": 2,
   "metadata": {
    "collapsed": false
   },
   "outputs": [],
   "source": [
    "from __future__ import division, print_function, absolute_import\n",
    "\n",
    "%matplotlib inline\n",
    "import matplotlib.pyplot as plt\n",
    "import numpy as np\n",
    "import astropy.io.ascii as at\n",
    "import astropy.units as u"
   ]
  },
  {
   "cell_type": "markdown",
   "metadata": {},
   "source": [
    "# Define the circularization function\n",
    "\n",
    "Following Meibom & Mathieu (2005), the circularization function $e(P_{orb})$ describes the transition from a median eccentricity for non tidally interacting binaries to complete circularization. The circularization period $P'$ indicates the period where all shorter-period binaries are circularized."
   ]
  },
  {
   "cell_type": "code",
   "execution_count": 6,
   "metadata": {
    "collapsed": true
   },
   "outputs": [],
   "source": [
    "def circ_function(Porb,Pcirc,alpha=0.35,beta=0.14,gamma=1.0):\n",
    "    \"\"\"\n",
    "    Compute the eccentricity distribution for the input\n",
    "    Porb values. Alpha, beta, and gamma are taken from \n",
    "    Meibom & Mathieu (2005). \n",
    "    \n",
    "    Inputs:\n",
    "        Porb: array-like (Quantity optional)\n",
    "        Pcirc: float (Quantity optional)\n",
    "        alpha, beta, gamma: floats (optional)\n",
    "        \n",
    "    Outputs:\n",
    "        eccentricity: array\n",
    "    \"\"\"\n",
    "    \n",
    "    eccentricities = np.zeros_like(Porb)\n",
    "    \n",
    "    # If Porb <= Pcirc, then e=0, so we don't need to change anything\n",
    "    \n",
    "    # If Porb > Pcirc, compute the circularization function\n",
    "    \n",
    "    gtr_pc = Porb > Pcirc\n",
    "    \n",
    "    cf_part = np.e**(beta * (Pcirc - Porb[gtr_pc]))\n",
    "    \n",
    "    eccentricities[gtr_pc] = alpha * (1 - cf_part)**gamma\n",
    "    \n",
    "    return eccentricities"
   ]
  },
  {
   "cell_type": "code",
   "execution_count": 11,
   "metadata": {
    "collapsed": false
   },
   "outputs": [
    {
     "name": "stdout",
     "output_type": "stream",
     "text": [
      "[ 1.          1.07226722  1.149757    1.23284674  1.32194115  1.41747416\n",
      "  1.51991108  1.62975083  1.7475284   1.87381742]\n"
     ]
    }
   ],
   "source": [
    "ptest = np.logspace(0,3,100)\n",
    "print(ptest[:10])"
   ]
  },
  {
   "cell_type": "code",
   "execution_count": 12,
   "metadata": {
    "collapsed": false
   },
   "outputs": [],
   "source": [
    "etest = circ_function(ptest,10.2)"
   ]
  },
  {
   "cell_type": "code",
   "execution_count": 13,
   "metadata": {
    "collapsed": false
   },
   "outputs": [
    {
     "data": {
      "text/plain": [
       "[<matplotlib.lines.Line2D at 0x7fa5089918d0>]"
      ]
     },
     "execution_count": 13,
     "metadata": {},
     "output_type": "execute_result"
    },
    {
     "data": {
      "image/png": "[encoded data removed]",
      "text/plain": [
       "<matplotlib.figure.Figure at 0x7fa508c7a590>"
      ]
     },
     "metadata": {},
     "output_type": "display_data"
    }
   ],
   "source": [
    "plt.plot(np.log10(ptest),etest)"
   ]
  },
  {
   "cell_type": "markdown",
   "metadata": {},
   "source": [
    "# How about some data?"
   ]
  },
  {
   "cell_type": "code",
   "execution_count": 15,
   "metadata": {
    "collapsed": false
   },
   "outputs": [
    {
     "name": "stdout",
     "output_type": "stream",
     "text": [
      "[('2MASS ID', 'S16'), ('MS ID', 'S6'), ('CD ID', 'S6'), ('ra', 'S12'), ('dec', 'S12'), ('V', '<f8'), ('B-V', '<f8'), ('BinType', 'S3'), ('NRV', 'S5'), ('gamma', '<f8'), ('period', '<f8'), ('eccentricity', '<f8'), ('ecc_err', '<f8'), ('Pmem', 'S6'), ('M1', '<f8'), ('M2', 'S6'), ('SpT', 'S2')]\n"
     ]
    }
   ],
   "source": [
    "m35 = at.read(\"/home/stephanie/data/catalogs/M35_orbits_meibommathieu2005.csv\")\n",
    "print(m35.dtype)"
   ]
  },
  {
   "cell_type": "code",
   "execution_count": 21,
   "metadata": {
    "collapsed": false
   },
   "outputs": [
    {
     "data": {
      "text/plain": [
       "<matplotlib.text.Text at 0x7fa50acfea10>"
      ]
     },
     "execution_count": 21,
     "metadata": {},
     "output_type": "execute_result"
    },
    {
     "data": {
      "image/png": "[encoded data removed]",
      "text/plain": [
       "<matplotlib.figure.Figure at 0x7fa508968e50>"
      ]
     },
     "metadata": {},
     "output_type": "display_data"
    }
   ],
   "source": [
    "plt.figure()\n",
    "ax = plt.subplot(111)\n",
    "plt.errorbar(m35[\"period\"],m35[\"eccentricity\"],m35[\"ecc_err\"],\n",
    "             linewidth=0,elinewidth=2,capsize=0,marker=\"o\")\n",
    "plt.plot(ptest,etest)\n",
    "ax.set_xscale(\"log\")\n",
    "ax.set_xlabel(r\"P$_{orb}$ (d)\")\n",
    "ax.set_ylabel(\"e\")"
   ]
  },
  {
   "cell_type": "markdown",
   "metadata": {},
   "source": [
    "# Now let's fit it"
   ]
  },
  {
   "cell_type": "code",
   "execution_count": 22,
   "metadata": {
    "collapsed": false
   },
   "outputs": [
    {
     "data": {
      "text/plain": [
       "u'2.1.0'"
      ]
     },
     "execution_count": 22,
     "metadata": {},
     "output_type": "execute_result"
    }
   ],
   "source": [
    "import emcee\n",
    "emcee.__version__"
   ]
  },
  {
   "cell_type": "code",
   "execution_count": 24,
   "metadata": {
    "collapsed": false
   },
   "outputs": [],
   "source": [
    "def lnlike(Pcirc,Porb,obs_ecc,obs_err):\n",
    "    mod_ecc = circ_function(Porb,Pcirc)\n",
    "    \n",
    "    sigma2 = obs_err**2 + mod_ecc**2\n",
    "    inv_sigma2 = 1 / sigma2\n",
    "    return -0.5*np.sum((obs_ecc - mod_ecc)**2 * inv_sigma2\n",
    "                      - np.log(inv_sigma2))\n",
    "    "
   ]
  },
  {
   "cell_type": "code",
   "execution_count": 25,
   "metadata": {
    "collapsed": true
   },
   "outputs": [],
   "source": [
    "def lnprior(Pcirc):\n",
    "    if Pcirc>=0.01 and Pcirc<50:\n",
    "        return 0.0\n",
    "    else:\n",
    "        return -np.inf"
   ]
  },
  {
   "cell_type": "code",
   "execution_count": 27,
   "metadata": {
    "collapsed": false
   },
   "outputs": [],
   "source": [
    "def lnprob(Pcirc,Porb,obs_ecc,obs_err):\n",
    "    \n",
    "    lp = lnprior(Pcirc)\n",
    "    if not np.isfinite(lp):\n",
    "        return - np.inf\n",
    "    else:\n",
    "        return lp + lnlike(Pcirc,Porb,obs_ecc,obs_err)"
   ]
  },
  {
   "cell_type": "code",
   "execution_count": null,
   "metadata": {
    "collapsed": true
   },
   "outputs": [],
   "source": []
  }
 ],
 "metadata": {
  "kernelspec": {
   "display_name": "Python 2",
   "language": "python",
   "name": "python2"
  },
  "language_info": {
   "codemirror_mode": {
    "name": "ipython",
    "version": 2
   },
   "file_extension": ".py",
   "mimetype": "text/x-python",
   "name": "python",
   "nbconvert_exporter": "python",
   "pygments_lexer": "ipython2",
   "version": "2.7.13"
  }
 },
 "nbformat": 4,
 "nbformat_minor": 0
}
